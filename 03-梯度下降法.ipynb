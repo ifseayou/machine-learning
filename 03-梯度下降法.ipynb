{
 "cells": [
  {
   "cell_type": "markdown",
   "metadata": {},
   "source": [
    "# 梯度下降法\n",
    "\n",
    "关于梯度下降法：\n",
    "\n",
    "* 不是一个机器学习的算法\n",
    "* 是一种基于搜索的最优化方法\n",
    "* 作用：最小化一个损失函数\n",
    "* 梯度上升法：最大化一个效用函数\n",
    "\n",
    "> 总的来说，在机器学习领域，熟练的掌握梯度法来求一个函数的目标值，是很重要的。"
   ]
  },
  {
   "cell_type": "markdown",
   "metadata": {},
   "source": [
    "![](img/isea36.jpg)\n",
    "\n",
    "对于上图的解释，这里暂时只是讨论一阶导数的情况:\n",
    "\n",
    "* 每取一个参数theta值，都有与之对应的一个损失函数J"
   ]
  },
  {
   "cell_type": "markdown",
   "metadata": {},
   "source": [
    "在直线方程中，导数就代表着斜率，在曲线方程中，导数代表切线斜率，可以理解为theta单位变化时，J相应的变化；\n",
    "\n",
    "导数可以代表一个方向，导数对应的方向就是损失函数J增大的方向，图中的例子中，导数是负值，也就是说J增大的方向，是X轴的负方向。 这里我们希望找到J的最小值，也就说theta沿着J减小的方向移动。所以应该向着导数的负方向移动，初此之外，还需要添加一个步长，所以是：$-\\eta\\frac{dJ}{d\\theta}$\n",
    "\n",
    "对于一个点来说，我们求出其导数，我们就求出了这个点对应的J增大的方向，但是我们要向J减小的方向继续前进，乘以负步长就OK，如果当前点+负步长*导数，该点就在向右移动，直到导数为0，J就达到了极小值。可以看到图中蓝色的点在图中是逐渐的下降的，因此叫做梯度下降法。为什么叫做梯度呢？"
   ]
  },
  {
   "cell_type": "markdown",
   "metadata": {},
   "source": [
    "在上述的例子中，我们使用的是一维的函数，所以直接使用导数就行了，但是在多维函数中，我们需要对各个分量分别求导，那么最终得到的那个方向其实就是梯度。(准确的说是，我们对各个方向求方向导数得到那个最大的方向导数（等效于求对各个分量求偏导），就是梯度）\n",
    " \n",
    "![](img/isea37.jpg)\n",
    " \n",
    "梯度的方向，对应损失函数J增大的方向，而且是增大最快的方向。\n",
    " \n",
    "并不是所有的函数都有唯一的极值点（比如说有一条曲线的有两个极小值点）：\n",
    "   解决方案：\n",
    "     * 多次运行，随机化初始点\n",
    "     * 梯度下降法的初始点也是一个超参数\n",
    "    \n",
    " 在本次演示，线性回归中使用梯度下降法中：\n",
    " ![](img/isea38.jpg)\n",
    " \n",
    " ## 梯度下降法模拟"
   ]
  },
  {
   "cell_type": "code",
   "execution_count": 2,
   "metadata": {},
   "outputs": [],
   "source": [
    "import numpy as np\n",
    "import matplotlib.pyplot as plt"
   ]
  },
  {
   "cell_type": "code",
   "execution_count": 3,
   "metadata": {},
   "outputs": [
    {
     "data": {
      "text/plain": [
       "array([-1.  , -0.95, -0.9 , -0.85, -0.8 , -0.75, -0.7 , -0.65, -0.6 ,\n",
       "       -0.55, -0.5 , -0.45, -0.4 , -0.35, -0.3 , -0.25, -0.2 , -0.15,\n",
       "       -0.1 , -0.05,  0.  ,  0.05,  0.1 ,  0.15,  0.2 ,  0.25,  0.3 ,\n",
       "        0.35,  0.4 ,  0.45,  0.5 ,  0.55,  0.6 ,  0.65,  0.7 ,  0.75,\n",
       "        0.8 ,  0.85,  0.9 ,  0.95,  1.  ,  1.05,  1.1 ,  1.15,  1.2 ,\n",
       "        1.25,  1.3 ,  1.35,  1.4 ,  1.45,  1.5 ,  1.55,  1.6 ,  1.65,\n",
       "        1.7 ,  1.75,  1.8 ,  1.85,  1.9 ,  1.95,  2.  ,  2.05,  2.1 ,\n",
       "        2.15,  2.2 ,  2.25,  2.3 ,  2.35,  2.4 ,  2.45,  2.5 ,  2.55,\n",
       "        2.6 ,  2.65,  2.7 ,  2.75,  2.8 ,  2.85,  2.9 ,  2.95,  3.  ,\n",
       "        3.05,  3.1 ,  3.15,  3.2 ,  3.25,  3.3 ,  3.35,  3.4 ,  3.45,\n",
       "        3.5 ,  3.55,  3.6 ,  3.65,  3.7 ,  3.75,  3.8 ,  3.85,  3.9 ,\n",
       "        3.95,  4.  ,  4.05,  4.1 ,  4.15,  4.2 ,  4.25,  4.3 ,  4.35,\n",
       "        4.4 ,  4.45,  4.5 ,  4.55,  4.6 ,  4.65,  4.7 ,  4.75,  4.8 ,\n",
       "        4.85,  4.9 ,  4.95,  5.  ,  5.05,  5.1 ,  5.15,  5.2 ,  5.25,\n",
       "        5.3 ,  5.35,  5.4 ,  5.45,  5.5 ,  5.55,  5.6 ,  5.65,  5.7 ,\n",
       "        5.75,  5.8 ,  5.85,  5.9 ,  5.95,  6.  ])"
      ]
     },
     "execution_count": 3,
     "metadata": {},
     "output_type": "execute_result"
    }
   ],
   "source": [
    "# 在 -1到6的范围之间取141个点,来表示θ的值\n",
    "plot_x = np.linspace(-1,6,141)\n",
    "plot_x"
   ]
  },
  {
   "cell_type": "code",
   "execution_count": 4,
   "metadata": {},
   "outputs": [],
   "source": [
    "# 设计二次曲线，来表示损失函数J,我们希望使用梯度下降法找到下面的这个曲线的最小值\n",
    "plot_y = (plot_x - 2.5) ** 2 - 1"
   ]
  },
  {
   "cell_type": "code",
   "execution_count": 5,
   "metadata": {},
   "outputs": [
    {
     "data": {
      "image/png": "[encoded data removed]",
      "text/plain": [
       "<Figure size 432x288 with 1 Axes>"
      ]
     },
     "metadata": {
      "needs_background": "light"
     },
     "output_type": "display_data"
    }
   ],
   "source": [
    "# 绘制图像\n",
    "plt.plot(plot_x,plot_y)\n",
    "plt.show()"
   ]
  },
  {
   "cell_type": "code",
   "execution_count": 26,
   "metadata": {},
   "outputs": [],
   "source": [
    "# 计算损失函数J的导数\n",
    "def dJ(theta):\n",
    "    return 2 * (theta - 2.5)\n",
    "\n",
    "# 求损失函数J的值\n",
    "def J(theta):\n",
    "    try:\n",
    "        return (theta - 2.5) ** 2 - 1\n",
    "    except:\n",
    "        return float('inf')"
   ]
  },
  {
   "cell_type": "code",
   "execution_count": 27,
   "metadata": {},
   "outputs": [
    {
     "name": "stdout",
     "output_type": "stream",
     "text": [
      "2.499891109642585\n",
      "-0.99999998814289\n"
     ]
    }
   ],
   "source": [
    "# 设置梯度下降的起始点：\n",
    "theta = 0.0\n",
    "\n",
    "# 定义学习率\n",
    "eta = 0.1\n",
    "\n",
    "# 设置退出循环的精度\n",
    "epsilon = 1e-8\n",
    "\n",
    "# 迭代\n",
    "while True:\n",
    "    \n",
    "    # 获取导函数的值\n",
    "    gradient = dJ(theta)\n",
    "    \n",
    "    # 保存上一次的theta\n",
    "    last_theta = theta\n",
    "    \n",
    "    # 获取新的theta\n",
    "    theta = theta - eta * gradient\n",
    "    \n",
    "    # 判断J是否达到了最小值，也即导数是否为0（或者到达设置的精度），\n",
    "    if(abs(J(theta) - J(last_theta)) < epsilon):\n",
    "        break\n",
    "\n",
    "# 打印J取到最小值的时候theta 的值     \n",
    "print(theta)\n",
    "\n",
    "# 打印取到的最小的损失函数的值\n",
    "print(J(theta))"
   ]
  },
  {
   "cell_type": "markdown",
   "metadata": {},
   "source": [
    "### 观察theta的变化"
   ]
  },
  {
   "cell_type": "code",
   "execution_count": 28,
   "metadata": {},
   "outputs": [
    {
     "data": {
      "image/png": "[encoded data removed]",
      "text/plain": [
       "<Figure size 432x288 with 1 Axes>"
      ]
     },
     "metadata": {
      "needs_background": "light"
     },
     "output_type": "display_data"
    }
   ],
   "source": [
    "# 设置梯度下降的起始点：\n",
    "theta = 0.0\n",
    "\n",
    "# 定义学习率\n",
    "eta = 0.1\n",
    "\n",
    "# 设置退出循环的精度\n",
    "epsilon = 1e-8\n",
    "\n",
    "# 记录theta的历史变化\n",
    "theta_history = [theta]\n",
    "\n",
    "# 迭代\n",
    "while True:\n",
    "    gradient = dJ(theta)\n",
    "    \n",
    "    # 保存上一次的theta\n",
    "    last_theta = theta\n",
    "    \n",
    "    # 获取新的theta\n",
    "    theta = theta - eta * gradient\n",
    "    \n",
    "    # 将新的计算出来的theta值放入到数组中\n",
    "    theta_history.append(theta)\n",
    "    \n",
    "    # 判断J是否达到了最小值，也即导数是否为0（或者到达设置的精度），\n",
    "    if(abs(J(theta) - J(last_theta)) < epsilon):\n",
    "        break\n",
    "\n",
    "# 绘制theta和损失函数的图像\n",
    "plt.plot(plot_x,J(plot_x))\n",
    "plt.plot(np.array(theta_history),J(np.array(theta_history)),color = 'r',marker = '+')\n",
    "plt.show()"
   ]
  },
  {
   "cell_type": "code",
   "execution_count": 29,
   "metadata": {},
   "outputs": [
    {
     "data": {
      "text/plain": [
       "46"
      ]
     },
     "execution_count": 29,
     "metadata": {},
     "output_type": "execute_result"
    }
   ],
   "source": [
    "# 查看迭代的次数,经过了45次查找，还有一次是初始值\n",
    "len(theta_history)"
   ]
  },
  {
   "cell_type": "markdown",
   "metadata": {},
   "source": [
    "观察上面的绘图：可以发现刚开始变化的幅度比较大，因为在刚开始的时候，梯度本身比较陡（值较大），越是到后面，梯度在变得平缓，每一次变化也就少，直到最后损失函数的差值小于我们设定的值\n",
    "\n",
    "### 将我们上述的代码进行封装"
   ]
  },
  {
   "cell_type": "code",
   "execution_count": 39,
   "metadata": {},
   "outputs": [],
   "source": [
    "# 封装梯度下降法,n_iters = 1e4, 限制迭代的次数为10 000次\n",
    "def gradient_descent(initial_theta,eta,n_iters = 1e4, epsilon = 1e-8):\n",
    "    theta = initial_theta\n",
    "    theta_history.append(initial_theta)\n",
    "    i_iters = 0\n",
    "    \n",
    "    while True:\n",
    "        gradient = dJ(theta)\n",
    "        last_theta = theta\n",
    "        theta = theta - eta * gradient\n",
    "        theta_history.append(theta)\n",
    "        \n",
    "        if(abs(J(theta) - J(last_theta)) < epsilon):\n",
    "            break\n",
    "        i_iters += 1\n",
    "\n",
    " # 封装绘制图像的函数\n",
    "def plot_theta_history():\n",
    "    plt.plot(plot_x,plot_y)\n",
    "    plt.plot(np.array(theta_history),J(np.array(theta_history)),color = 'r',marker = '+')\n",
    "    plt.show()\n",
    "            "
   ]
  },
  {
   "cell_type": "code",
   "execution_count": 36,
   "metadata": {},
   "outputs": [
    {
     "data": {
      "image/png": "[encoded data removed]",
      "text/plain": [
       "<Figure size 432x288 with 1 Axes>"
      ]
     },
     "metadata": {
      "needs_background": "light"
     },
     "output_type": "display_data"
    }
   ],
   "source": [
    "# 对于新的学习率，绘制新的图像\n",
    "eta = 0.01 # 对于大多数函数，一它eta步长等于0.01 都是合理的。\n",
    "theta_history = []\n",
    "gradient_descent(0.,eta)\n",
    "plot_theta_history()"
   ]
  },
  {
   "cell_type": "code",
   "execution_count": 37,
   "metadata": {},
   "outputs": [
    {
     "data": {
      "text/plain": [
       "424"
      ]
     },
     "execution_count": 37,
     "metadata": {},
     "output_type": "execute_result"
    }
   ],
   "source": [
    "len(theta_history)"
   ]
  },
  {
   "cell_type": "code",
   "execution_count": 38,
   "metadata": {},
   "outputs": [
    {
     "data": {
      "image/png": "[encoded data removed]",
      "text/plain": [
       "<Figure size 432x288 with 1 Axes>"
      ]
     },
     "metadata": {
      "needs_background": "light"
     },
     "output_type": "display_data"
    }
   ],
   "source": [
    "# 如果我们取值的时候，取了较大的学习率\n",
    "eta = 0.8\n",
    "theta_history = []\n",
    "gradient_descent(0.,eta)\n",
    "plot_theta_history()"
   ]
  },
  {
   "cell_type": "code",
   "execution_count": 34,
   "metadata": {},
   "outputs": [
    {
     "data": {
      "text/plain": [
       "22"
      ]
     },
     "execution_count": 34,
     "metadata": {},
     "output_type": "execute_result"
    }
   ],
   "source": [
    "len(theta_history)"
   ]
  },
  {
   "cell_type": "markdown",
   "metadata": {},
   "source": [
    "在上面的例子中，我们在使用二次曲线作为损失函数，从而来模拟梯度下降法的过程。接下来，将梯度下降法应用在多元线性回归中"
   ]
  },
  {
   "cell_type": "markdown",
   "metadata": {},
   "source": [
    "## 线性回归中的梯度下降法\n",
    "![](img/isea39.jpg)\n",
    "\n",
    "* 如果有一个特征值，那么我们处理的导数是一个数字，如果有多个特征值，那么我们处理的导数（梯度）是一个向量。\n",
    "* 梯度代表的方向，代表着J增大的方向。\n",
    "\n",
    "**如图是有两个特征（也即3个参数）的梯度下降法的一个可视化**\n",
    "![](img/isea40.jpg)\n",
    "\n",
    "* 图中一圈一圈的是等高线，也即为z的取值，越外面的圈，取值越大，越内的圈取值越小，在中心的位置达到z的最小值。x，y对应着参数。\n",
    "* 在某点出，我们有多个方向的选择，但是梯度的方向是下降最快的（实际是梯度的反向）"
   ]
  },
  {
   "cell_type": "markdown",
   "metadata": {},
   "source": [
    "## 在线性回归模型中使用梯度下降法"
   ]
  },
  {
   "cell_type": "code",
   "execution_count": 1,
   "metadata": {},
   "outputs": [],
   "source": [
    "import numpy as np\n",
    "import matplotlib.pyplot as plt"
   ]
  },
  {
   "cell_type": "code",
   "execution_count": 38,
   "metadata": {},
   "outputs": [],
   "source": [
    "# 为了增加可重复性，这里添加随机种子\n",
    "np.random.seed(666)\n",
    "\n",
    "# 这里设置100个样本，每一个样本只有一个特征\n",
    "x = 2 * np.random.random(size = 100)\n",
    "# y值\n",
    "y = x * 3. + 4.+ np.random.random(size = 100)"
   ]
  },
  {
   "cell_type": "code",
   "execution_count": 39,
   "metadata": {},
   "outputs": [
    {
     "data": {
      "text/plain": [
       "(100,)"
      ]
     },
     "execution_count": 39,
     "metadata": {},
     "output_type": "execute_result"
    }
   ],
   "source": [
    "x.shape"
   ]
  },
  {
   "cell_type": "code",
   "execution_count": 40,
   "metadata": {},
   "outputs": [
    {
     "data": {
      "text/plain": [
       "(100, 1)"
      ]
     },
     "execution_count": 40,
     "metadata": {},
     "output_type": "execute_result"
    }
   ],
   "source": [
    "X = x.reshape(-1,1)\n",
    "X.shape"
   ]
  },
  {
   "cell_type": "code",
   "execution_count": 41,
   "metadata": {},
   "outputs": [
    {
     "data": {
      "image/png": "[encoded data removed]",
      "text/plain": [
       "<Figure size 432x288 with 1 Axes>"
      ]
     },
     "metadata": {
      "needs_background": "light"
     },
     "output_type": "display_data"
    }
   ],
   "source": [
    "plt.scatter(x,y)\n",
    "plt.show()"
   ]
  },
  {
   "cell_type": "markdown",
   "metadata": {},
   "source": [
    "## 使用梯度下降法训练线性回归的模型，从而来拟合样本\n",
    "![](img/isea56.jpg)"
   ]
  },
  {
   "cell_type": "code",
   "execution_count": 42,
   "metadata": {},
   "outputs": [],
   "source": [
    "def J(theta,X_b,y): \n",
    "    try:\n",
    "        # （真值 - 预测值）平方求和，之后再除以样本的数量（也即样本有多少行）\n",
    "        return np.sum((y - X_b.dot(theta)) ** 2) / len(X_b)\n",
    "    except:\n",
    "        return float('inf')"
   ]
  },
  {
   "cell_type": "code",
   "execution_count": 43,
   "metadata": {},
   "outputs": [],
   "source": [
    "# 我们的方法针对的X是一个矩阵\n",
    "def dJ(theta,X_b,y):\n",
    "    # 在这里开辟一个空间，因为这里是大J对theta的每个维度求偏导，所以：\n",
    "    res = np.empty(len(theta)) # θ中有多少个元素，res中就应该有多少个元素\n",
    "    # 第一个偏导\n",
    "    res[0] = np.sum(X_b.dot(theta) - y)\n",
    "    for i in range (1, len(theta)): # 从1 一直到theta的最后一项\n",
    "        res[i] = (X_b.dot(theta) - y).dot(X_b[:,i]) # 每一个样本都取出第i角标个特征对应的向量\n",
    "    return res * 2 / len(X_b)"
   ]
  },
  {
   "cell_type": "code",
   "execution_count": 44,
   "metadata": {},
   "outputs": [],
   "source": [
    "# 封装梯度下降方法\n",
    "# 封装梯度下降法,n_iters = 1e4, 限制迭代的次数为10 000次\n",
    "def gradient_descent(X_b,y,initial_theta,eta,n_iters = 1e4, epsilon = 1e-8):\n",
    "    theta = initial_theta\n",
    "    i_iters = 0\n",
    "    \n",
    "    while i_iters < n_iters:\n",
    "        gradient = dJ(theta,X_b,y)\n",
    "        last_theta = theta\n",
    "        theta = theta  - eta * gradient\n",
    "\n",
    "        \n",
    "        if(abs(J(theta,X_b,y) - J(last_theta,X_b,y)) < epsilon):\n",
    "            break\n",
    "        i_iters += 1\n",
    "    return theta"
   ]
  },
  {
   "cell_type": "code",
   "execution_count": 45,
   "metadata": {},
   "outputs": [],
   "source": [
    "# 为原先的X添加一列,有样本个数那么多行，但是只有一列\n",
    "X_b = np.hstack([np.ones((len(X),1)),X])\n",
    "# 此时的theta是一个向量，该项量的个数是特征数 + 1，也是X_b这个矩阵的列数\n",
    "initial_theta = np.zeros(X_b.shape[1]) \n",
    "\n",
    "# 设置初始的eta值\n",
    "eta = 0.01\n",
    "\n",
    "theta = gradient_descent(X_b,y,initial_theta,eta )"
   ]
  },
  {
   "cell_type": "code",
   "execution_count": 46,
   "metadata": {},
   "outputs": [
    {
     "data": {
      "text/plain": [
       "array([4.54503299, 2.96828885])"
      ]
     },
     "execution_count": 46,
     "metadata": {},
     "output_type": "execute_result"
    }
   ],
   "source": [
    "theta"
   ]
  },
  {
   "cell_type": "markdown",
   "metadata": {},
   "source": [
    "## 梯度下降法的向量化运算\n",
    "上面我们使用的是for循环的方式计算梯度，这里我们将使用向量化的方式来计算梯度\n",
    "![](img/gradient/g1.png)\n",
    "\n",
    "![](img/isea57.jpg)\n",
    "\n",
    "当我们使用梯度下降法搜索损失函数的最小值的时候，对数据需要进行归一化处理"
   ]
  },
  {
   "cell_type": "code",
   "execution_count": 47,
   "metadata": {},
   "outputs": [],
   "source": [
    "import numpy as np\n",
    "import matplotlib.pyplot as plt"
   ]
  },
  {
   "cell_type": "code",
   "execution_count": 48,
   "metadata": {},
   "outputs": [],
   "source": [
    "# 更改上述的梯度下降的代码如下：\n",
    "def J(theta,X_b,y): \n",
    "    try:\n",
    "        # （真值 - 预测值）平方求和，之后再除以样本的数量（也即样本有多少行）\n",
    "        return np.sum((y - X_b.dot(theta)) ** 2) / len(X_b)\n",
    "    except:\n",
    "        return float('inf')\n",
    "    \n",
    "# 我们的方法针对的X是一个矩阵\n",
    "def dJ(theta,X_b,y):\n",
    "    \n",
    "    return X_b.T.dot(X_b.dot(theta) - y) * 2. / len(y) # 除以样本总数，len(X_b)亦可\n",
    "\n",
    "# 封装梯度下降方法\n",
    "# 封装梯度下降法,n_iters = 1e4, 限制迭代的次数为10 000次\n",
    "def gradient_descent_new(X_b,y,initial_theta,eta,n_iters = 1e4, epsilon = 1e-8):\n",
    "    theta = initial_theta\n",
    "    i_iters = 0\n",
    "    \n",
    "    while i_iters < n_iters:\n",
    "        gradient = dJ(theta,X_b,y)\n",
    "        last_theta = theta\n",
    "        theta = theta  - eta * gradient\n",
    "\n",
    "        \n",
    "        if(abs(J(theta,X_b,y) - J(last_theta,X_b,y)) < epsilon):\n",
    "            break\n",
    "        i_iters += 1\n",
    "    return theta\n"
   ]
  },
  {
   "cell_type": "code",
   "execution_count": 53,
   "metadata": {},
   "outputs": [
    {
     "data": {
      "text/plain": [
       "array([4.54503299, 2.96828885])"
      ]
     },
     "execution_count": 53,
     "metadata": {},
     "output_type": "execute_result"
    }
   ],
   "source": [
    "initial_theta = np.zeros(X_b.shape[1]) \n",
    "\n",
    "# 设置初始的eta值\n",
    "eta = 0.01\n",
    "\n",
    "theta = gradient_descent(X_b,y,initial_theta,eta )\n",
    "theta"
   ]
  },
  {
   "cell_type": "markdown",
   "metadata": {},
   "source": [
    "使用上述的方式，我们就生成了一个相对复杂的虚拟数据，我们使用正规方程解，在使用梯度下降法解，两者的耗时是不一样的。"
   ]
  }
 ],
 "metadata": {
  "kernelspec": {
   "display_name": "Python 3",
   "language": "python",
   "name": "python3"
  },
  "language_info": {
   "codemirror_mode": {
    "name": "ipython",
    "version": 3
   },
   "file_extension": ".py",
   "mimetype": "text/x-python",
   "name": "python",
   "nbconvert_exporter": "python",
   "pygments_lexer": "ipython3",
   "version": "3.7.0"
  }
 },
 "nbformat": 4,
 "nbformat_minor": 2
}
